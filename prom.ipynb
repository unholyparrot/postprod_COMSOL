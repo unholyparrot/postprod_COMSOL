{
 "cells": [
  {
   "cell_type": "code",
   "execution_count": 58,
   "metadata": {},
   "outputs": [],
   "source": [
    "import tqdm\n",
    "import numpy as np\n",
    "import pandas as pd\n",
    "import matplotlib.pyplot as plt\n",
    "from hellocomsol import hellodata, arg_and_path"
   ]
  },
  {
   "cell_type": "code",
   "execution_count": 3,
   "metadata": {},
   "outputs": [
    {
     "data": {
      "text/html": [
       "<div>\n",
       "<style scoped>\n",
       "    .dataframe tbody tr th:only-of-type {\n",
       "        vertical-align: middle;\n",
       "    }\n",
       "\n",
       "    .dataframe tbody tr th {\n",
       "        vertical-align: top;\n",
       "    }\n",
       "\n",
       "    .dataframe thead th {\n",
       "        text-align: right;\n",
       "    }\n",
       "</style>\n",
       "<table border=\"1\" class=\"dataframe\">\n",
       "  <thead>\n",
       "    <tr style=\"text-align: right;\">\n",
       "      <th></th>\n",
       "      <th>t</th>\n",
       "      <th>x</th>\n",
       "      <th>y</th>\n",
       "      <th>U</th>\n",
       "      <th>sr</th>\n",
       "      <th>thr</th>\n",
       "      <th>fn</th>\n",
       "      <th>fg</th>\n",
       "    </tr>\n",
       "  </thead>\n",
       "  <tbody>\n",
       "    <tr>\n",
       "      <td>0</td>\n",
       "      <td>0.0</td>\n",
       "      <td>0.000005</td>\n",
       "      <td>5.000000e-07</td>\n",
       "      <td>0.006851</td>\n",
       "      <td>14438.761</td>\n",
       "      <td>-2.215876e-35</td>\n",
       "      <td>1.951681e-15</td>\n",
       "      <td>0.0045</td>\n",
       "    </tr>\n",
       "    <tr>\n",
       "      <td>1</td>\n",
       "      <td>0.1</td>\n",
       "      <td>0.000005</td>\n",
       "      <td>5.000000e-07</td>\n",
       "      <td>0.006842</td>\n",
       "      <td>14419.346</td>\n",
       "      <td>4.061563e-35</td>\n",
       "      <td>-1.539766e-34</td>\n",
       "      <td>0.0045</td>\n",
       "    </tr>\n",
       "    <tr>\n",
       "      <td>2</td>\n",
       "      <td>0.2</td>\n",
       "      <td>0.000005</td>\n",
       "      <td>5.000000e-07</td>\n",
       "      <td>0.006842</td>\n",
       "      <td>14419.346</td>\n",
       "      <td>1.952872e-33</td>\n",
       "      <td>-2.338661e-26</td>\n",
       "      <td>0.0045</td>\n",
       "    </tr>\n",
       "    <tr>\n",
       "      <td>3</td>\n",
       "      <td>0.3</td>\n",
       "      <td>0.000005</td>\n",
       "      <td>5.000000e-07</td>\n",
       "      <td>0.006842</td>\n",
       "      <td>14419.346</td>\n",
       "      <td>3.842124e-35</td>\n",
       "      <td>-7.896191e-25</td>\n",
       "      <td>0.0045</td>\n",
       "    </tr>\n",
       "    <tr>\n",
       "      <td>4</td>\n",
       "      <td>0.4</td>\n",
       "      <td>0.000005</td>\n",
       "      <td>5.000000e-07</td>\n",
       "      <td>0.006842</td>\n",
       "      <td>14419.346</td>\n",
       "      <td>4.026753e-35</td>\n",
       "      <td>2.815794e-23</td>\n",
       "      <td>0.0045</td>\n",
       "    </tr>\n",
       "  </tbody>\n",
       "</table>\n",
       "</div>"
      ],
      "text/plain": [
       "     t         x             y         U         sr           thr  \\\n",
       "0  0.0  0.000005  5.000000e-07  0.006851  14438.761 -2.215876e-35   \n",
       "1  0.1  0.000005  5.000000e-07  0.006842  14419.346  4.061563e-35   \n",
       "2  0.2  0.000005  5.000000e-07  0.006842  14419.346  1.952872e-33   \n",
       "3  0.3  0.000005  5.000000e-07  0.006842  14419.346  3.842124e-35   \n",
       "4  0.4  0.000005  5.000000e-07  0.006842  14419.346  4.026753e-35   \n",
       "\n",
       "             fn      fg  \n",
       "0  1.951681e-15  0.0045  \n",
       "1 -1.539766e-34  0.0045  \n",
       "2 -2.338661e-26  0.0045  \n",
       "3 -7.896191e-25  0.0045  \n",
       "4  2.815794e-23  0.0045  "
      ]
     },
     "execution_count": 3,
     "metadata": {},
     "output_type": "execute_result"
    }
   ],
   "source": [
    "df = pd.read_csv('100nm_grided_new_df.csv')\n",
    "df.head()"
   ]
  },
  {
   "cell_type": "code",
   "execution_count": 5,
   "metadata": {},
   "outputs": [
    {
     "data": {
      "text/plain": [
       "array([5.e-06])"
      ]
     },
     "execution_count": 5,
     "metadata": {},
     "output_type": "execute_result"
    }
   ],
   "source": [
    "df[(df['x'] > 4e-6) & (df['x'] < 6e-6)]['x'].unique()"
   ]
  },
  {
   "cell_type": "code",
   "execution_count": 57,
   "metadata": {},
   "outputs": [
    {
     "data": {
      "text/plain": [
       "array([0.000305, 0.000355, 0.000405, 0.000455, 0.000505, 0.000555,\n",
       "       0.000605, 0.000655, 0.000705, 0.000755, 0.000805, 0.000855,\n",
       "       0.000905])"
      ]
     },
     "execution_count": 57,
     "metadata": {},
     "output_type": "execute_result"
    }
   ],
   "source": [
    "cut_line_step = df[(df.x > 3e-4) & (df.x < 9.5e-4)].x.unique()[::5]\n",
    "cut_line_step"
   ]
  },
  {
   "cell_type": "code",
   "execution_count": 59,
   "metadata": {},
   "outputs": [
    {
     "name": "stderr",
     "output_type": "stream",
     "text": [
      "100%|██████████████████████████████████████████████████████████████████████████████████| 13/13 [00:00<00:00, 35.27it/s]\n"
     ]
    }
   ],
   "source": [
    "I1 = list()\n",
    "for cut in tqdm.tqdm(cut_line_step):\n",
    "    at_x = df[(df['x'] == cut) & (df['t'] == 10)]\n",
    "    x = at_x.y\n",
    "    y = at_x.fn\n",
    "    I1.append(simps(y, x))"
   ]
  },
  {
   "cell_type": "code",
   "execution_count": 66,
   "metadata": {},
   "outputs": [
    {
     "data": {
      "text/plain": [
       "3.53088557938652e-10"
      ]
     },
     "execution_count": 66,
     "metadata": {},
     "output_type": "execute_result"
    }
   ],
   "source": [
    "np.mean(I1)"
   ]
  },
  {
   "cell_type": "code",
   "execution_count": 67,
   "metadata": {},
   "outputs": [
    {
     "data": {
      "image/png": "[encoded data removed]",
      "text/plain": [
       "<Figure size 432x288 with 1 Axes>"
      ]
     },
     "metadata": {
      "needs_background": "light"
     },
     "output_type": "display_data"
    }
   ],
   "source": [
    "plt.scatter(cut_line_step, I1, label=\"Fn(y) integral\")\n",
    "plt.xlim(cut_line_step.min() - 0.05 * x.mean(), cut_line_step.max() + 0.05 * x.mean())\n",
    "plt.ylim(np.min(I1) - 0.05 * np.mean(I1), np.max(I1) + 0.05 * np.mean(I1))\n",
    "plt.legend()\n",
    "plt.show()"
   ]
  },
  {
   "cell_type": "code",
   "execution_count": null,
   "metadata": {},
   "outputs": [],
   "source": []
  }
 ],
 "metadata": {
  "kernelspec": {
   "display_name": "Python 3",
   "language": "python",
   "name": "python3"
  },
  "language_info": {
   "codemirror_mode": {
    "name": "ipython",
    "version": 3
   },
   "file_extension": ".py",
   "mimetype": "text/x-python",
   "name": "python",
   "nbconvert_exporter": "python",
   "pygments_lexer": "ipython3",
   "version": "3.7.4"
  }
 },
 "nbformat": 4,
 "nbformat_minor": 2
}
